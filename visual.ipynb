{
 "cells": [
  {
   "cell_type": "code",
   "execution_count": 4,
   "metadata": {},
   "outputs": [],
   "source": [
    "import psycopg2 as ps\n",
    "import matplotlib.pyplot as plt\n",
    "import numpy as np\n",
    "\n",
    "# параметры для подключения к БД\n",
    "DB_NAME = 'iac_task'\n",
    "DB_USER = 'postgres'\n",
    "DB_PASS = 'password'\n",
    "DB_HOST = 'localhost'\n",
    "DB_PORT = '5432'"
   ]
  },
  {
   "cell_type": "code",
   "execution_count": 2,
   "metadata": {},
   "outputs": [],
   "source": [
    "# подключение к БД\n",
    "conn = ps.connect(database=DB_NAME,\n",
    "                  user=DB_USER,\n",
    "                  password=DB_PASS,\n",
    "                  host=DB_HOST,\n",
    "                  port=DB_PORT)\n",
    "\n",
    "cur = conn.cursor()\n",
    "\n",
    "cur.execute(\"SELECT * FROM info\")\n",
    "results = cur.fetchall()"
   ]
  },
  {
   "cell_type": "code",
   "execution_count": 5,
   "metadata": {},
   "outputs": [
    {
     "name": "stdout",
     "output_type": "stream",
     "text": [
      "876 houses\n",
      "\n",
      "House coordinates:\n"
     ]
    },
    {
     "data": {
      "image/png": "[encoded data removed]",
      "text/plain": [
       "<Figure size 432x288 with 1 Axes>"
      ]
     },
     "metadata": {
      "needs_background": "light"
     },
     "output_type": "display_data"
    }
   ],
   "source": [
    "# отмечаем дома в таблице в виде точек координат \n",
    "num_points = 0\n",
    "for i in results:\n",
    "    plt.scatter(np.array([i[1]]), np.array([i[2]]), c='red', s=3.0)\n",
    "    num_points += 1\n",
    "    \n",
    "print(f'{num_points} houses\\n')\n",
    "print('House coordinates:')\n",
    "plt.show()"
   ]
  }
 ],
 "metadata": {
  "kernelspec": {
   "display_name": "Python 3",
   "language": "python",
   "name": "python3"
  },
  "language_info": {
   "codemirror_mode": {
    "name": "ipython",
    "version": 3
   },
   "file_extension": ".py",
   "mimetype": "text/x-python",
   "name": "python",
   "nbconvert_exporter": "python",
   "pygments_lexer": "ipython3",
   "version": "3.8.5"
  }
 },
 "nbformat": 4,
 "nbformat_minor": 4
}
